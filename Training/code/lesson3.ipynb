{
 "cells": [
  {
   "cell_type": "code",
   "execution_count": 83,
   "id": "44c8f5a0-9488-4498-92cf-8201b534193a",
   "metadata": {},
   "outputs": [
    {
     "name": "stdout",
     "output_type": "stream",
     "text": [
      "\n",
      "--- Check Missing Values ---\n",
      "school        0\n",
      "sex           0\n",
      "age           0\n",
      "address       0\n",
      "famsize       0\n",
      "Pstatus       0\n",
      "Medu          0\n",
      "Fedu          0\n",
      "Mjob          0\n",
      "Fjob          0\n",
      "reason        0\n",
      "guardian      0\n",
      "traveltime    0\n",
      "studytime     0\n",
      "failures      0\n",
      "schoolsup     0\n",
      "famsup        0\n",
      "paid          0\n",
      "activities    0\n",
      "nursery       0\n",
      "higher        0\n",
      "internet      0\n",
      "romantic      0\n",
      "famrel        0\n",
      "freetime      0\n",
      "goout         0\n",
      "Dalc          0\n",
      "Walc          0\n",
      "health        0\n",
      "absences      0\n",
      "G1            0\n",
      "G2            0\n",
      "G3            0\n",
      "dtype: int64\n",
      "Index(['school', 'sex', 'age', 'address', 'famsize', 'Pstatus', 'Medu', 'Fedu',\n",
      "       'Mjob', 'Fjob', 'reason', 'guardian', 'traveltime', 'studytime',\n",
      "       'failures', 'schoolsup', 'famsup', 'paid', 'activities', 'nursery',\n",
      "       'higher', 'internet', 'romantic', 'famrel', 'freetime', 'goout', 'Dalc',\n",
      "       'Walc', 'health', 'absences', 'G1', 'G2', 'G3', 'pass'],\n",
      "      dtype='object')\n"
     ]
    }
   ],
   "source": [
    "import pandas as pd\n",
    "import sklearn\n",
    "import matplotlib.pyplot as plt\n",
    "import seaborn as sns\n",
    "import streamlit\n",
    "import numpy as np\n",
    "\n",
    "data = pd.read_csv('C:/Users/Bitar/Desktop/Training/dataset/student/student-mat.csv',sep=';')\n",
    "data['school'] = data['school'].str.replace('\"', '', regex=False)\n",
    "split_data = data['school'].str.split(';', expand=True)\n",
    "# يمكننا تسمية الأعمدة الجديدة إذا أردنا\n",
    "split_data.columns = [data.columns[i] for i in range(split_data.shape[1])]\n",
    "# تحويل الأعمدة  إلى نوع العدد الصحيح\n",
    "split_data['G1'] = pd.to_numeric(split_data['G1'], errors='coerce')\n",
    "split_data['G3'] = pd.to_numeric(split_data['G3'], errors='coerce')\n",
    "split_data['freetime'] = pd.to_numeric(split_data['freetime'], errors='coerce')\n",
    "split_data['failures'] = pd.to_numeric(split_data['failures'], errors='coerce')\n",
    "print(\"\\n--- Check Missing Values ---\")\n",
    "print(split_data.isnull().sum())\n",
    "\n",
    "# Add column'pass'\n",
    "split_data['pass'] = np.where(split_data['G3'] >= 10, 1, 0)\n",
    "print(split_data.columns)"
   ]
  },
  {
   "cell_type": "code",
   "execution_count": 84,
   "id": "a8ae7185-15a4-4335-91ec-0b13805ad527",
   "metadata": {},
   "outputs": [],
   "source": [
    "from sklearn.model_selection import train_test_split\n",
    "from sklearn.linear_model import LogisticRegression\n",
    "from sklearn.metrics import accuracy_score, classification_report, confusion_matrix\n",
    "import numpy as np\n",
    "\n",
    "selected_features = [ 'freetime', 'failures', 'G1']\n",
    "\n",
    "X = split_data[selected_features]\n",
    "y = split_data['pass']\n",
    "\n",
    "X_train, X_test, y_train, y_test = train_test_split(X, y, test_size=0.3, random_state=42, stratify=y)\n",
    "\n",
    "model = LogisticRegression(random_state=42, solver='liblinear')\n",
    "model.fit(X_train, y_train)\n",
    "y_pred = model.predict(X_test)"
   ]
  },
  {
   "cell_type": "code",
   "execution_count": 85,
   "id": "bfddaf12-4d54-402b-8c8a-ff41438b9e39",
   "metadata": {},
   "outputs": [
    {
     "name": "stdout",
     "output_type": "stream",
     "text": [
      "مصفوفة الارتباك الخام:\n",
      "[[26 13]\n",
      " [11 69]]\n"
     ]
    }
   ],
   "source": [
    "import pandas as pd\n",
    "from sklearn.model_selection import train_test_split\n",
    "from sklearn.linear_model import LogisticRegression\n",
    "from sklearn.metrics import confusion_matrix, ConfusionMatrixDisplay # لإظهار المصفوفة\n",
    "import matplotlib.pyplot as plt\n",
    "import numpy as np\n",
    "\n",
    "conf_matrix = confusion_matrix(y_test, y_pred)\n",
    "print(\"مصفوفة الارتباك الخام:\")\n",
    "print(conf_matrix)\n"
   ]
  },
  {
   "cell_type": "code",
   "execution_count": 86,
   "id": "2c9e8c52-8445-48b0-9d19-0b8a2cbcea06",
   "metadata": {},
   "outputs": [
    {
     "data": {
      "image/png": "[encoded data removed]",
      "text/plain": [
       "<Figure size 600x600 with 2 Axes>"
      ]
     },
     "metadata": {},
     "output_type": "display_data"
    }
   ],
   "source": [
    "fig, ax = plt.subplots(figsize=(6, 6)) # لضبط حجم الشكل\n",
    "cmp = ConfusionMatrixDisplay(confusion_matrix=conf_matrix, display_labels=model.classes_)\n",
    "cmp.plot(ax=ax, cmap=plt.cm.Blues) # cmap لتغيير الألوان، يمكنك تجربة 'viridis', 'YlGn'\n",
    "ax.set_title('Confusion Matrix') # عنوان المخطط\n",
    "plt.show()"
   ]
  },
  {
   "cell_type": "code",
   "execution_count": 87,
   "id": "dd745a50-11e9-4222-8e5a-723a09b0af65",
   "metadata": {},
   "outputs": [
    {
     "name": "stdout",
     "output_type": "stream",
     "text": [
      "Feature Importance (Coefficients) from Logistic Regression:\n",
      "    Feature  Coefficient  Abs_Coefficient\n",
      "1  failures    -0.682662         0.682662\n",
      "2        G1     0.633172         0.633172\n",
      "0  freetime    -0.521130         0.521130\n",
      "\n",
      "Top 3 Most Important Features:\n",
      "    Feature  Coefficient  Abs_Coefficient\n",
      "1  failures    -0.682662         0.682662\n",
      "2        G1     0.633172         0.633172\n",
      "0  freetime    -0.521130         0.521130\n"
     ]
    }
   ],
   "source": [
    "# 3. استخراج المعاملات وأسماء الأعمدة\n",
    "\n",
    "# LogisticRegression.coef_ تُرجع مصفوفة ثنائية الأبعاد (1, n_features) للتصنيف الثنائي\n",
    "# لذلك نأخذ الصف الأول [0]\n",
    "feature_coefficients = model.coef_[0]\n",
    "\n",
    "# أسماء الأعمدة من بيانات التدريب X_train\n",
    "feature_names = X_train.columns\n",
    "\n",
    "# 4. ربط المعاملات بأسماء الأعمدة وإنشاء DataFrame\n",
    "coefficients_df = pd.DataFrame({\n",
    "    'Feature': feature_names,\n",
    "    'Coefficient': feature_coefficients\n",
    "})\n",
    "\n",
    "# 5. تصنيف الأعمدة حسب الأهمية (القيمة المطلقة للمعامل)\n",
    "coefficients_df['Abs_Coefficient'] = np.abs(coefficients_df['Coefficient'])\n",
    "coefficients_df = coefficients_df.sort_values(by='Abs_Coefficient', ascending=False)\n",
    "\n",
    "print(\"Feature Importance (Coefficients) from Logistic Regression:\")\n",
    "print(coefficients_df)\n",
    "\n",
    "# يمكنك أيضًا تحديد عدد معين من أهم الأعمدة\n",
    "print(\"\\nTop 3 Most Important Features:\")\n",
    "print(coefficients_df.head(3))"
   ]
  },
  {
   "cell_type": "code",
   "execution_count": 88,
   "id": "9237c5f0-a006-4f33-b317-7eabfd373fe3",
   "metadata": {},
   "outputs": [
    {
     "name": "stdout",
     "output_type": "stream",
     "text": [
      "\n",
      "---Evaluating Fairness Using Fairlearn (Example) ---\n",
      "\n",
      "Demographic Parity Difference (failures): 0.77\n",
      "Equalized Odds Difference (failures): 1.00\n",
      "\n",
      "Accuracy for sensitive group (failures):\n",
      "failures\n",
      "0    0.787234\n",
      "1    0.866667\n",
      "2    1.000000\n",
      "3    0.333333\n",
      "Name: accuracy_score, dtype: float64\n"
     ]
    }
   ],
   "source": [
    "from fairlearn.metrics import MetricFrame, demographic_parity_difference, equalized_odds_difference\n",
    "\n",
    "sensitive_features = X_test['failures']\n",
    "print(\"\\n---Evaluating Fairness Using Fairlearn (Example) ---\\n\")\n",
    "\n",
    "# 2. حساب الفروقات في مقاييس الإنصاف\n",
    "# الفروقات هي قيمة موجبة تشير إلى مدى التفاوت بين المجموعات\n",
    "\n",
    "# الفرق في التكافؤ الديموغرافي (Demographic Parity Difference)\n",
    "# هل نسبة التنبؤات الإيجابية متساوية بين الجنسين؟\n",
    "dp_diff = demographic_parity_difference(y_true=y_test, y_pred=y_pred, sensitive_features=sensitive_features)\n",
    "print(f\"Demographic Parity Difference (failures): {dp_diff:.2f}\")\n",
    "\n",
    "# الفرق في الفرص المتساوية (Equalized Odds Difference)\n",
    "# هل معدل True Positive و False Positive متساوي بين الجنسين؟\n",
    "eo_diff = equalized_odds_difference(y_true=y_test, y_pred=y_pred, sensitive_features=sensitive_features)\n",
    "print(f\"Equalized Odds Difference (failures): {eo_diff:.2f}\")\n",
    "\n",
    "# استخدام MetricFrame لعرض المقاييس لكل مجموعة\n",
    "# لنفترض أن 0 = أنثى، 1 = ذكر\n",
    "metric_frame = MetricFrame(metrics=accuracy_score, y_true=y_test, y_pred=y_pred, sensitive_features=sensitive_features)\n",
    "print(\"\\nAccuracy for sensitive group (failures):\")\n",
    "print(metric_frame.by_group)"
   ]
  },
  {
   "cell_type": "code",
   "execution_count": 91,
   "id": "5a86c3da-c60b-41d7-b612-c321b45466c9",
   "metadata": {},
   "outputs": [
    {
     "data": {
      "text/plain": [
       "['success_model.pkl']"
      ]
     },
     "execution_count": 91,
     "metadata": {},
     "output_type": "execute_result"
    }
   ],
   "source": [
    "import joblib\n",
    "joblib.dump(model, 'success_model.pkl')"
   ]
  },
  {
   "cell_type": "code",
   "execution_count": 92,
   "id": "6a1ecd15-ca23-40d0-a6c3-035aa514bbf5",
   "metadata": {},
   "outputs": [
    {
     "data": {
      "text/plain": [
       "['original_feature_names.pkl']"
      ]
     },
     "execution_count": 92,
     "metadata": {},
     "output_type": "execute_result"
    }
   ],
   "source": [
    "original_feature_names = X_train.columns.tolist()\n",
    "joblib.dump(original_feature_names, 'original_feature_names.pkl')"
   ]
  },
  {
   "cell_type": "code",
   "execution_count": null,
   "id": "8f0b3c18-23e7-419d-b875-32d911c8f168",
   "metadata": {},
   "outputs": [],
   "source": []
  }
 ],
 "metadata": {
  "kernelspec": {
   "display_name": "Python [conda env:base] *",
   "language": "python",
   "name": "conda-base-py"
  },
  "language_info": {
   "codemirror_mode": {
    "name": "ipython",
    "version": 3
   },
   "file_extension": ".py",
   "mimetype": "text/x-python",
   "name": "python",
   "nbconvert_exporter": "python",
   "pygments_lexer": "ipython3",
   "version": "3.13.5"
  }
 },
 "nbformat": 4,
 "nbformat_minor": 5
}
