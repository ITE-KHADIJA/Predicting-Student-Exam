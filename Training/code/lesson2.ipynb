{
 "cells": [
  {
   "cell_type": "code",
   "execution_count": 2,
   "id": "4639cb96-057c-44c2-b62e-151c6372ac92",
   "metadata": {},
   "outputs": [
    {
     "name": "stdout",
     "output_type": "stream",
     "text": [
      "\n",
      "--- Check Missing Values ---\n",
      "school        0\n",
      "sex           0\n",
      "age           0\n",
      "address       0\n",
      "famsize       0\n",
      "Pstatus       0\n",
      "Medu          0\n",
      "Fedu          0\n",
      "Mjob          0\n",
      "Fjob          0\n",
      "reason        0\n",
      "guardian      0\n",
      "traveltime    0\n",
      "studytime     0\n",
      "failures      0\n",
      "schoolsup     0\n",
      "famsup        0\n",
      "paid          0\n",
      "activities    0\n",
      "nursery       0\n",
      "higher        0\n",
      "internet      0\n",
      "romantic      0\n",
      "famrel        0\n",
      "freetime      0\n",
      "goout         0\n",
      "Dalc          0\n",
      "Walc          0\n",
      "health        0\n",
      "absences      0\n",
      "G1            0\n",
      "G2            0\n",
      "G3            0\n",
      "dtype: int64\n",
      "Index(['school', 'sex', 'age', 'address', 'famsize', 'Pstatus', 'Medu', 'Fedu',\n",
      "       'Mjob', 'Fjob', 'reason', 'guardian', 'traveltime', 'studytime',\n",
      "       'failures', 'schoolsup', 'famsup', 'paid', 'activities', 'nursery',\n",
      "       'higher', 'internet', 'romantic', 'famrel', 'freetime', 'goout', 'Dalc',\n",
      "       'Walc', 'health', 'absences', 'G1', 'G2', 'G3', 'pass'],\n",
      "      dtype='object')\n"
     ]
    }
   ],
   "source": [
    "import pandas as pd\n",
    "import sklearn\n",
    "import matplotlib.pyplot as plt\n",
    "import seaborn as sns\n",
    "import streamlit\n",
    "import numpy as np\n",
    "\n",
    "data = pd.read_csv('C:/Users/Bitar/Desktop/Training/dataset/student/student-mat.csv',sep=';')\n",
    "data['school'] = data['school'].str.replace('\"', '', regex=False)\n",
    "split_data = data['school'].str.split(';', expand=True)\n",
    "# يمكننا تسمية الأعمدة الجديدة إذا أردنا\n",
    "split_data.columns = [data.columns[i] for i in range(split_data.shape[1])]\n",
    "# تحويل الأعمدة  إلى نوع العدد الصحيح\n",
    "split_data['G1'] = pd.to_numeric(split_data['G1'], errors='coerce')\n",
    "split_data['G3'] = pd.to_numeric(split_data['G3'], errors='coerce')\n",
    "split_data['freetime'] = pd.to_numeric(split_data['freetime'], errors='coerce')\n",
    "split_data['failures'] = pd.to_numeric(split_data['failures'], errors='coerce')\n",
    "print(\"\\n--- Check Missing Values ---\")\n",
    "print(split_data.isnull().sum())\n",
    "\n",
    "# Add column'pass'\n",
    "split_data['pass'] = np.where(split_data['G3'] >= 10, 1, 0)\n",
    "print(split_data.columns)"
   ]
  },
  {
   "cell_type": "code",
   "execution_count": 3,
   "id": "ac7d8594-b1a1-4fc9-ad8a-cfbf0b9d67f0",
   "metadata": {},
   "outputs": [],
   "source": [
    "from sklearn.model_selection import train_test_split\n",
    "from sklearn.linear_model import LogisticRegression\n",
    "from sklearn.metrics import accuracy_score, classification_report, confusion_matrix\n",
    "import numpy as np\n",
    "\n",
    "selected_features = [ 'freetime', 'failures', 'G1']\n",
    "\n",
    "X = split_data[selected_features]\n",
    "y = split_data['pass']\n",
    "\n",
    "X_train, X_test, y_train, y_test = train_test_split(X, y, test_size=0.3, random_state=42, stratify=y)\n",
    "\n",
    "model = LogisticRegression(random_state=42, solver='liblinear')\n",
    "model.fit(X_train, y_train)\n",
    "y_pred = model.predict(X_test)"
   ]
  },
  {
   "cell_type": "code",
   "execution_count": null,
   "id": "3188e661-1374-4f78-aa9b-ec3304bc95c1",
   "metadata": {},
   "outputs": [],
   "source": []
  }
 ],
 "metadata": {
  "kernelspec": {
   "display_name": "Python [conda env:base] *",
   "language": "python",
   "name": "conda-base-py"
  },
  "language_info": {
   "codemirror_mode": {
    "name": "ipython",
    "version": 3
   },
   "file_extension": ".py",
   "mimetype": "text/x-python",
   "name": "python",
   "nbconvert_exporter": "python",
   "pygments_lexer": "ipython3",
   "version": "3.13.5"
  }
 },
 "nbformat": 4,
 "nbformat_minor": 5
}
