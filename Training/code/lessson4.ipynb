{
 "cells": [
  {
   "cell_type": "code",
   "execution_count": 1,
   "id": "ca45e82f-1cc0-49c5-a7e6-71053c11b2e1",
   "metadata": {},
   "outputs": [
    {
     "name": "stdout",
     "output_type": "stream",
     "text": [
      "Model and feature names loaded successfully.\n",
      "* Running on local URL:  http://127.0.0.1:7860\n",
      "* Running on public URL: https://40b9fb8ea9095d677f.gradio.live\n",
      "\n",
      "This share link expires in 1 week. For free permanent hosting and GPU upgrades, run `gradio deploy` from the terminal in the working directory to deploy to Hugging Face Spaces (https://huggingface.co/spaces)\n"
     ]
    },
    {
     "data": {
      "text/html": [
       "<div><iframe src=\"https://40b9fb8ea9095d677f.gradio.live\" width=\"100%\" height=\"500\" allow=\"autoplay; camera; microphone; clipboard-read; clipboard-write;\" frameborder=\"0\" allowfullscreen></iframe></div>"
      ],
      "text/plain": [
       "<IPython.core.display.HTML object>"
      ]
     },
     "metadata": {},
     "output_type": "display_data"
    },
    {
     "data": {
      "text/plain": []
     },
     "execution_count": 1,
     "metadata": {},
     "output_type": "execute_result"
    }
   ],
   "source": [
    "import gradio as gr\n",
    "import pandas as pd\n",
    "import joblib\n",
    "import numpy as np\n",
    "\n",
    "# 1. Load the trained model and original feature names\n",
    "try:\n",
    "    model = joblib.load('success_model.pkl')\n",
    "    original_feature_names = joblib.load('original_feature_names.pkl')\n",
    "    print(\"Model and feature names loaded successfully.\")\n",
    "except FileNotFoundError:\n",
    "    print(\"Error: Model file or feature names not found. Please run Step 1 (model training and saving) first.\")\n",
    "    # You can exit or provide a default model to continue in development mode\n",
    "    exit() # Exit the program if files are not found\n",
    "\n",
    "# 2. Define the prediction function (This is the function that Gradio will call)\n",
    "def predict_loan_approval(freetime, past_failures, g1_score):\n",
    "    # Create a DataFrame from user inputs\n",
    "    # Columns must be in the same order and have the same names as the original pre-processed columns\n",
    "    input_data = pd.DataFrame([[freetime, past_failures, g1_score]],\n",
    "                              columns=['freetime', 'failures', 'G1'])\n",
    "\n",
    "    # Ensure all original columns are present, and fill missing columns with default values if necessary\n",
    "    # (This is important if your model relies on columns not directly entered by the user)\n",
    "    # In our case, input_data contains all the columns used to train the model, so this part may not be strictly necessary.\n",
    "    # However, if X_train contained other columns (e.g., One-Hot encoded columns from features not in the direct input)\n",
    "    # then this step would be crucial to ensure input_data has the same structure as X_train\n",
    "    # before passing it to the pipeline.\n",
    "\n",
    "    # Example of how to add missing columns if needed (uncomment and adapt if your model expects more)\n",
    "    # for col in original_feature_names:\n",
    "    #     if col not in input_data.columns:\n",
    "    #         input_data[col] = 0 # Or any suitable default value for that feature\n",
    "\n",
    "    # Use the pipeline to predict (it will perform pre-processing then predict)\n",
    "    prediction_proba = model.predict_proba(input_data)[0] # Probability of each class\n",
    "    prediction_class = model.predict(input_data)[0] # Predicted class (0 or 1)\n",
    "\n",
    "    # 3. Formulate the prediction and explanation\n",
    "    if prediction_class == 1:\n",
    "        result = \"Student will succeed\"\n",
    "        explanation = f\"The model predicts Student success or failure  with a probability of {prediction_proba[1]*100:.2f}%.\"\n",
    "        explanation += \"\\nBased on the provided factors, you seem to have a good chance of success.\"\n",
    "    else:\n",
    "        result = \"Student will fail\"\n",
    "        explanation = f\"The model predicts loan non-approval with a probability of {prediction_proba[0]*100:.2f}%.\"\n",
    "        explanation += \"\\nSome factors may reduce the chance of success.\"\n",
    "\n",
    "    # To enhance the explanation, we can try to interpret the effect of some key features\n",
    "    # This step ideally requires libraries like SHAP or LIME for complex model explanations.\n",
    "    # But here, we can provide a simple, rule-based interpretation for illustrative purposes.\n",
    "    if freetime < 2:\n",
    "        explanation += \"\\nObservation: Low Free time might have a negative impact.\"\n",
    "    if past_failures > 0:\n",
    "        explanation += \"\\nObservation: Previous failures might have a negative impact.\"\n",
    "    if g1_score < 10:\n",
    "        explanation += \"\\nObservation: Lower previous grades might affect success chances.\"\n",
    "\n",
    "    return result, explanation\n",
    "\n",
    "# 4. Build the Gradio interface\n",
    "iface = gr.Interface(\n",
    "    fn=predict_loan_approval,\n",
    "    inputs=[\n",
    "        gr.Slider(minimum=0, maximum=5, step=1, label=\"Free Time (hours per week)\", value=2),\n",
    "        gr.Slider(minimum=0, maximum=3, step=1, label=\"Previous Failures\", value=0),\n",
    "        gr.Slider(minimum=0, maximum=20, step=1, label=\"Previous Grade G1\", value=10),\n",
    "    ],\n",
    "    outputs=[\n",
    "        gr.Textbox(label=\"Prediction Result\"),\n",
    "        gr.Textbox(label=\"Explanation of Prediction\")\n",
    "    ],\n",
    "    title=\"Predicting student success or failure\",\n",
    "    description=\"Enter student data to predict whether or not they will pass, along with an explanation of the prediction.\",\n",
    "    flagging_mode=\"auto\" # Allows users to flag results (optional)\n",
    ")\n",
    "\n",
    "# 5. Launch the app\n",
    "iface.launch(share=True) # share=True to create a temporary public link"
   ]
  },
  {
   "cell_type": "code",
   "execution_count": null,
   "id": "d910a8b7-f128-4a63-8ad3-6b007008608c",
   "metadata": {},
   "outputs": [],
   "source": []
  }
 ],
 "metadata": {
  "kernelspec": {
   "display_name": "Python [conda env:base] *",
   "language": "python",
   "name": "conda-base-py"
  },
  "language_info": {
   "codemirror_mode": {
    "name": "ipython",
    "version": 3
   },
   "file_extension": ".py",
   "mimetype": "text/x-python",
   "name": "python",
   "nbconvert_exporter": "python",
   "pygments_lexer": "ipython3",
   "version": "3.13.5"
  }
 },
 "nbformat": 4,
 "nbformat_minor": 5
}
